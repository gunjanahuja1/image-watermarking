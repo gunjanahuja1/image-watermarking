{
 "cells": [
  {
   "cell_type": "code",
   "execution_count": 1,
   "id": "40a6aec0",
   "metadata": {},
   "outputs": [],
   "source": [
    "import pandas as pd\n",
    "from pandas import read_csv \n",
    "from tensorflow.keras.models import Sequential\n",
    "from tensorflow.keras.layers import Dense\n",
    "from tensorflow.keras.wrappers.scikita_learn import KerasRegressor\n",
    "from sklearn.model_selection import cross_val_score\n",
    "from sklearn.model_selection import KFold\n",
    "from tensorflow.keras.preprocessing.image import load_img\n",
    "from tensorflow.keras import Input \n",
    "from tensorflow.keras import Model\n",
    "from keras.layers import Conv2D\n",
    "from keras.layers import LeakyReLU\n",
    "from keras.layers import Flatten\n",
    "import numpy as np\n",
    "from keras.layers import Reshape\n",
    "from keras.layers import Conv2DTranspose"
   ]
  },
  {
   "cell_type": "code",
   "execution_count": 2,
   "id": "381f6a67",
   "metadata": {},
   "outputs": [],
   "source": [
    "from sklearn.preprocessing import StandardScaler \n",
    "from sklearn.pipeline import Pipeline\n",
    "from tensorflow.keras.optimizers import Adam \n",
    "from tensorflow.keras.layers import BatchNormalization \n",
    "from tensorflow.keras.optimizers import RMSprop\n",
    "from tensorflow.keras.datasets import fashion_mnist"
   ]
  },
  {
   "cell_type": "code",
   "execution_count": 3,
   "id": "b52d6626",
   "metadata": {},
   "outputs": [],
   "source": [
    "(dftrain,_),(dftest,_)=fashion_mnist.load_data()"
   ]
  },
  {
   "cell_type": "code",
   "execution_count": 4,
   "id": "3f31b08d",
   "metadata": {},
   "outputs": [
    {
     "data": {
      "text/plain": [
       "(60000, 28, 28)"
      ]
     },
     "execution_count": 4,
     "metadata": {},
     "output_type": "execute_result"
    }
   ],
   "source": [
    "dftrain.shape"
   ]
  },
  {
   "cell_type": "code",
   "execution_count": 5,
   "id": "7a791ca5",
   "metadata": {},
   "outputs": [
    {
     "data": {
      "text/plain": [
       "(10000, 28, 28)"
      ]
     },
     "execution_count": 5,
     "metadata": {},
     "output_type": "execute_result"
    }
   ],
   "source": [
    "dftest.shape"
   ]
  },
  {
   "cell_type": "code",
   "execution_count": 6,
   "id": "c4bf7916",
   "metadata": {},
   "outputs": [],
   "source": [
    "dftrain1=dftrain/255\n",
    "dftest1=dftest/255"
   ]
  },
  {
   "cell_type": "code",
   "execution_count": 7,
   "id": "c8d00448",
   "metadata": {},
   "outputs": [],
   "source": [
    "dftrain1=np.expand_dims(dftrain1,axis=-1)"
   ]
  },
  {
   "cell_type": "code",
   "execution_count": 8,
   "id": "75fb1023",
   "metadata": {},
   "outputs": [
    {
     "data": {
      "text/plain": [
       "(60000, 28, 28, 1)"
      ]
     },
     "execution_count": 8,
     "metadata": {},
     "output_type": "execute_result"
    }
   ],
   "source": [
    "dftrain1.shape"
   ]
  },
  {
   "cell_type": "code",
   "execution_count": 9,
   "id": "01929dfb",
   "metadata": {},
   "outputs": [
    {
     "data": {
      "text/plain": [
       "(10000, 28, 28, 1)"
      ]
     },
     "execution_count": 9,
     "metadata": {},
     "output_type": "execute_result"
    }
   ],
   "source": [
    "dftest1=np.expand_dims(dftest1,axis=-1)\n",
    "dftest1.shape"
   ]
  },
  {
   "cell_type": "code",
   "execution_count": 10,
   "id": "03a58cf4",
   "metadata": {},
   "outputs": [],
   "source": [
    "def autoencoder(input_shape=(28,28,1), enco_size=32, alpha=.02): \n",
    "    input=Input(shape=input_shape) \n",
    "    encode=Conv2D(filters=32, kernel_size=(3,3), strides=2, padding='same')(input)\n",
    "    encode=LeakyReLU(alpha=alpha)(encode) \n",
    "    encode=BatchNormalization()(encode)\n",
    "    encode=Conv2D(filters=64, kernel_size=(3,3), strides=2, padding='same')(encode)\n",
    "    encode=LeakyReLU(alpha=alpha)(encode) \n",
    "    encode=BatchNormalization()(encode)\n",
    "\n",
    "    #define output for encoder\n",
    "\n",
    "    out_shape=encode.shape\n",
    "    encode=Flatten()(encode) \n",
    "    out=Dense(enco_size)(encode)\n",
    "    model=Model(input,out) \n",
    "  \n",
    "    #decoder\n",
    "    decoder_input=Input (shape=(enco_size,))\n",
    "    target_shape=tuple(out_shape[1:])\n",
    "    decoder=Dense(np.prod(target_shape))(decoder_input) \n",
    "    decoder=Reshape(target_shape)(decoder)\n",
    "    decoder=Conv2DTranspose(filters=64, kernel_size=(3,3), strides=2, padding='same')(decoder)\n",
    "    decoder=LeakyReLU(alpha=alpha)(decoder) \n",
    "    decoder=BatchNormalization()(decoder)\n",
    "    decoder=Conv2DTranspose(filters=32, kernel_size=(3,3), strides=2, padding='same')(decoder) \n",
    "    decoder=LeakyReLU(alpha=alpha) (decoder)\n",
    "    decoder=BatchNormalization() (decoder)\n",
    "\n",
    "    #define output for decoder\n",
    "\n",
    "    decoder_out=Conv2DTranspose(filters=1, kernel_size=(3,3), padding='same', activation=\"sigmoid\")(decoder) \n",
    "    decoder_model=Model(decoder_input, decoder_out)\n",
    "\n",
    "    #define auto encoder\n",
    "    encoded_model_output=model(input) \n",
    "    decoded_model_output=decoder_model(encoded_model_output)\n",
    "    auto=Model(input, decoded_model_output) \n",
    "    return model, decoder_model, auto"
   ]
  },
  {
   "cell_type": "code",
   "execution_count": 11,
   "id": "4bcbb46b",
   "metadata": {},
   "outputs": [],
   "source": [
    "encoder,decoder,autoencoder_model=autoencoder(enco_size=256)"
   ]
  },
  {
   "cell_type": "code",
   "execution_count": 12,
   "id": "c506d3af",
   "metadata": {},
   "outputs": [],
   "source": [
    "autoencoder_model.compile(optimizer=\"adam\", loss=\"mse\")"
   ]
  },
  {
   "cell_type": "code",
   "execution_count": 13,
   "id": "e5c88543",
   "metadata": {},
   "outputs": [
    {
     "name": "stdout",
     "output_type": "stream",
     "text": [
      "Model: \"model\"\n",
      "_________________________________________________________________\n",
      " Layer (type)                Output Shape              Param #   \n",
      "=================================================================\n",
      " input_1 (InputLayer)        [(None, 28, 28, 1)]       0         \n",
      "                                                                 \n",
      " conv2d (Conv2D)             (None, 14, 14, 32)        320       \n",
      "                                                                 \n",
      " leaky_re_lu (LeakyReLU)     (None, 14, 14, 32)        0         \n",
      "                                                                 \n",
      " batch_normalization (BatchN  (None, 14, 14, 32)       128       \n",
      " ormalization)                                                   \n",
      "                                                                 \n",
      " conv2d_1 (Conv2D)           (None, 7, 7, 64)          18496     \n",
      "                                                                 \n",
      " leaky_re_lu_1 (LeakyReLU)   (None, 7, 7, 64)          0         \n",
      "                                                                 \n",
      " batch_normalization_1 (Batc  (None, 7, 7, 64)         256       \n",
      " hNormalization)                                                 \n",
      "                                                                 \n",
      " flatten (Flatten)           (None, 3136)              0         \n",
      "                                                                 \n",
      " dense (Dense)               (None, 256)               803072    \n",
      "                                                                 \n",
      "=================================================================\n",
      "Total params: 822,272\n",
      "Trainable params: 822,080\n",
      "Non-trainable params: 192\n",
      "_________________________________________________________________\n"
     ]
    }
   ],
   "source": [
    "encoder.summary()"
   ]
  },
  {
   "cell_type": "code",
   "execution_count": 14,
   "id": "1b0bbfc7",
   "metadata": {},
   "outputs": [
    {
     "name": "stdout",
     "output_type": "stream",
     "text": [
      "Model: \"model_1\"\n",
      "_________________________________________________________________\n",
      " Layer (type)                Output Shape              Param #   \n",
      "=================================================================\n",
      " input_2 (InputLayer)        [(None, 256)]             0         \n",
      "                                                                 \n",
      " dense_1 (Dense)             (None, 3136)              805952    \n",
      "                                                                 \n",
      " reshape (Reshape)           (None, 7, 7, 64)          0         \n",
      "                                                                 \n",
      " conv2d_transpose (Conv2DTra  (None, 14, 14, 64)       36928     \n",
      " nspose)                                                         \n",
      "                                                                 \n",
      " leaky_re_lu_2 (LeakyReLU)   (None, 14, 14, 64)        0         \n",
      "                                                                 \n",
      " batch_normalization_2 (Batc  (None, 14, 14, 64)       256       \n",
      " hNormalization)                                                 \n",
      "                                                                 \n",
      " conv2d_transpose_1 (Conv2DT  (None, 28, 28, 32)       18464     \n",
      " ranspose)                                                       \n",
      "                                                                 \n",
      " leaky_re_lu_3 (LeakyReLU)   (None, 28, 28, 32)        0         \n",
      "                                                                 \n",
      " batch_normalization_3 (Batc  (None, 28, 28, 32)       128       \n",
      " hNormalization)                                                 \n",
      "                                                                 \n",
      " conv2d_transpose_2 (Conv2DT  (None, 28, 28, 1)        289       \n",
      " ranspose)                                                       \n",
      "                                                                 \n",
      "=================================================================\n",
      "Total params: 862,017\n",
      "Trainable params: 861,825\n",
      "Non-trainable params: 192\n",
      "_________________________________________________________________\n"
     ]
    }
   ],
   "source": [
    "decoder.summary()"
   ]
  },
  {
   "cell_type": "code",
   "execution_count": 15,
   "id": "c4821934",
   "metadata": {},
   "outputs": [
    {
     "name": "stdout",
     "output_type": "stream",
     "text": [
      "Model: \"model_2\"\n",
      "_________________________________________________________________\n",
      " Layer (type)                Output Shape              Param #   \n",
      "=================================================================\n",
      " input_1 (InputLayer)        [(None, 28, 28, 1)]       0         \n",
      "                                                                 \n",
      " model (Functional)          (None, 256)               822272    \n",
      "                                                                 \n",
      " model_1 (Functional)        (None, 28, 28, 1)         862017    \n",
      "                                                                 \n",
      "=================================================================\n",
      "Total params: 1,684,289\n",
      "Trainable params: 1,683,905\n",
      "Non-trainable params: 384\n",
      "_________________________________________________________________\n"
     ]
    }
   ],
   "source": [
    "autoencoder_model.summary()"
   ]
  },
  {
   "cell_type": "code",
   "execution_count": null,
   "id": "a41df3a5",
   "metadata": {},
   "outputs": [],
   "source": [
    "history= autoencoder_model.fit(dftrain1,dftrain1,epochs=120,batch_size=1024,validation_data=(dftest1,dftest1)) "
   ]
  },
  {
   "cell_type": "code",
   "execution_count": 17,
   "id": "2278a749",
   "metadata": {},
   "outputs": [
    {
     "data": {
      "text/plain": [
       "(28, 28)"
      ]
     },
     "execution_count": 17,
     "metadata": {},
     "output_type": "execute_result"
    }
   ],
   "source": [
    "#Sending INfo\n",
    "dftrain[0].shape "
   ]
  },
  {
   "cell_type": "code",
   "execution_count": 18,
   "id": "6ff65e6e",
   "metadata": {},
   "outputs": [
    {
     "data": {
      "text/plain": [
       "<matplotlib.image.AxesImage at 0x1d34531f6a0>"
      ]
     },
     "execution_count": 18,
     "metadata": {},
     "output_type": "execute_result"
    },
    {
     "data": {
      "image/png": "[encoded data removed]",
      "text/plain": [
       "<Figure size 432x288 with 1 Axes>"
      ]
     },
     "metadata": {
      "needs_background": "light"
     },
     "output_type": "display_data"
    }
   ],
   "source": [
    "import matplotlib.pyplot as plt\n",
    "plt.imshow(dftest[0])"
   ]
  },
  {
   "cell_type": "code",
   "execution_count": 19,
   "id": "1a021e56",
   "metadata": {},
   "outputs": [
    {
     "data": {
      "text/plain": [
       "(28, 28, 1)"
      ]
     },
     "execution_count": 19,
     "metadata": {},
     "output_type": "execute_result"
    }
   ],
   "source": [
    "dftest1[0].shape"
   ]
  },
  {
   "cell_type": "code",
   "execution_count": 20,
   "id": "37bb1889",
   "metadata": {},
   "outputs": [
    {
     "data": {
      "text/plain": [
       "<matplotlib.image.AxesImage at 0x1d345420070>"
      ]
     },
     "execution_count": 20,
     "metadata": {},
     "output_type": "execute_result"
    },
    {
     "data": {
      "image/png": "[encoded data removed]",
      "text/plain": [
       "<Figure size 432x288 with 1 Axes>"
      ]
     },
     "metadata": {
      "needs_background": "light"
     },
     "output_type": "display_data"
    }
   ],
   "source": [
    "plt.imshow(dftest1[0])"
   ]
  },
  {
   "cell_type": "code",
   "execution_count": 21,
   "id": "f4ab8847",
   "metadata": {},
   "outputs": [
    {
     "name": "stdout",
     "output_type": "stream",
     "text": [
      "1/1 [==============================] - 0s 319ms/step\n"
     ]
    }
   ],
   "source": [
    "img=dftest1[0]\n",
    "img=img.reshape(1,28,28,1)\n",
    "encoded_data=encoder.predict(img) \n",
    "encoded_data=encoded_data.reshape(16,16)"
   ]
  },
  {
   "cell_type": "code",
   "execution_count": 22,
   "id": "2e73065b",
   "metadata": {},
   "outputs": [
    {
     "data": {
      "text/plain": [
       "(16, 16)"
      ]
     },
     "execution_count": 22,
     "metadata": {},
     "output_type": "execute_result"
    }
   ],
   "source": [
    "encoded_data.shape"
   ]
  },
  {
   "cell_type": "code",
   "execution_count": 23,
   "id": "3d236b65",
   "metadata": {},
   "outputs": [
    {
     "name": "stdout",
     "output_type": "stream",
     "text": [
      "Encoded Data Plot\n"
     ]
    },
    {
     "data": {
      "text/plain": [
       "<matplotlib.image.AxesImage at 0x1d345468340>"
      ]
     },
     "execution_count": 23,
     "metadata": {},
     "output_type": "execute_result"
    },
    {
     "data": {
      "image/png": "[encoded data removed]",
      "text/plain": [
       "<Figure size 432x288 with 1 Axes>"
      ]
     },
     "metadata": {
      "needs_background": "light"
     },
     "output_type": "display_data"
    }
   ],
   "source": [
    "print(\"Encoded Data Plot\")\n",
    "plt.imshow(encoded_data)"
   ]
  },
  {
   "cell_type": "code",
   "execution_count": 24,
   "id": "edaece43",
   "metadata": {},
   "outputs": [],
   "source": [
    "def Cover_encoder (encoder, img1, path_cover_img):\n",
    "    img1=img1.reshape(1,28,28,1) \n",
    "    k2=encoder.predict(img1)\n",
    "    k2=k2.T\n",
    "\n",
    "    k2=k2.flatten() \n",
    "    k2=np.pad(k2, (0,9744), 'constant')\n",
    "\n",
    "    img=load_img(path_cover_img, grayscale=True, target_size=(100,100))\n",
    "    from tensorflow.keras.preprocessing.image import img_to_array\n",
    "    img1=img_to_array(img)\n",
    "\n",
    "    img1=img1.reshape(10000,1)\n",
    "\n",
    "    img1=img1.flatten() \n",
    "    img2=img1+k2\n",
    "\n",
    "    img3=img2.reshape(100, 100, 1) \n",
    "    from tensorflow.keras.preprocessing.image import array_to_img\n",
    "\n",
    "    img3=array_to_img(img3)\n",
    "\n",
    "    return img3"
   ]
  },
  {
   "cell_type": "code",
   "execution_count": 25,
   "id": "18707d52",
   "metadata": {},
   "outputs": [],
   "source": [
    "path=\"railroad-g0de6b9f2f_640.jpg\""
   ]
  },
  {
   "cell_type": "code",
   "execution_count": 27,
   "id": "0c45129b",
   "metadata": {},
   "outputs": [
    {
     "data": {
      "image/png": "[encoded data removed]",
      "text/plain": [
       "<PIL.Image.Image image mode=L size=100x100 at 0x1D34544F6D0>"
      ]
     },
     "execution_count": 27,
     "metadata": {},
     "output_type": "execute_result"
    }
   ],
   "source": [
    "load_img(path, color_mode=\"grayscale\", target_size=(100, 100))"
   ]
  },
  {
   "cell_type": "code",
   "execution_count": 28,
   "id": "4e270371",
   "metadata": {},
   "outputs": [
    {
     "name": "stdout",
     "output_type": "stream",
     "text": [
      "1/1 [==============================] - 0s 41ms/step\n"
     ]
    }
   ],
   "source": [
    "send_data=Cover_encoder(encoder,dftest1[0], path)"
   ]
  },
  {
   "cell_type": "code",
   "execution_count": 29,
   "id": "af5c0bd3",
   "metadata": {},
   "outputs": [
    {
     "data": {
      "image/png": "[encoded data removed]",
      "text/plain": [
       "<PIL.Image.Image image mode=L size=100x100 at 0x1D345428310>"
      ]
     },
     "execution_count": 29,
     "metadata": {},
     "output_type": "execute_result"
    }
   ],
   "source": [
    "send_data"
   ]
  },
  {
   "cell_type": "code",
   "execution_count": 30,
   "id": "f3804507",
   "metadata": {},
   "outputs": [],
   "source": [
    "def receive_info(decoder, path, send_data):\n",
    "    from tensorflow.keras.preprocessing.image import img_to_array\n",
    "    k=img_to_array(send_data)\n",
    "    img1=k.reshape(10000,1) \n",
    "    img1=img1.flatten()\n",
    "    img=load_img(path, grayscale=True, target_size=(100, 100)) \n",
    "    img2=img_to_array(img)\n",
    "    img2=img2.reshape(10000,1) \n",
    "    img2=img2.flatten()\n",
    "    k1=img1-img2\n",
    "    k2=k1[0:256]\n",
    "    k2= np.reshape(k2, (256,1)) \n",
    "    k2=k2.T\n",
    "    k3=decoder.predict(k2)\n",
    "    k3=k3.reshape(28,28)\n",
    "    return k3"
   ]
  },
  {
   "cell_type": "code",
   "execution_count": 31,
   "id": "90f99380",
   "metadata": {},
   "outputs": [
    {
     "name": "stdout",
     "output_type": "stream",
     "text": [
      "1/1 [==============================] - 1s 988ms/step\n"
     ]
    }
   ],
   "source": [
    "k4=receive_info(decoder, path, send_data)"
   ]
  },
  {
   "cell_type": "code",
   "execution_count": 32,
   "id": "570ec2a4",
   "metadata": {},
   "outputs": [
    {
     "name": "stdout",
     "output_type": "stream",
     "text": [
      "Received Data\n"
     ]
    },
    {
     "data": {
      "text/plain": [
       "<matplotlib.image.AxesImage at 0x1d344da43a0>"
      ]
     },
     "execution_count": 32,
     "metadata": {},
     "output_type": "execute_result"
    },
    {
     "data": {
      "image/png": "[encoded data removed]",
      "text/plain": [
       "<Figure size 432x288 with 1 Axes>"
      ]
     },
     "metadata": {
      "needs_background": "light"
     },
     "output_type": "display_data"
    }
   ],
   "source": [
    "print(\"Received Data\")\n",
    "plt.imshow(k4)"
   ]
  },
  {
   "cell_type": "code",
   "execution_count": 33,
   "id": "307d77ee",
   "metadata": {},
   "outputs": [
    {
     "data": {
      "text/plain": [
       "[<matplotlib.lines.Line2D at 0x1d32e170a30>]"
      ]
     },
     "execution_count": 33,
     "metadata": {},
     "output_type": "execute_result"
    },
    {
     "data": {
      "image/png": "[encoded data removed]",
      "text/plain": [
       "<Figure size 432x288 with 1 Axes>"
      ]
     },
     "metadata": {
      "needs_background": "light"
     },
     "output_type": "display_data"
    }
   ],
   "source": [
    "import matplotlib.pyplot as plt\n",
    "plt.subplot(211)\n",
    "plt.title(\"MSE\") \n",
    "plt.plot(history.history[\"loss\"], color=\"blue\", label=\"train\")\n",
    "plt.plot(history.history[\"val_loss\"], color=\"orange\", label=\"test\")"
   ]
  },
  {
   "cell_type": "code",
   "execution_count": null,
   "id": "cc24921d",
   "metadata": {},
   "outputs": [],
   "source": []
  }
 ],
 "metadata": {
  "kernelspec": {
   "display_name": "Python 3 (ipykernel)",
   "language": "python",
   "name": "python3"
  },
  "language_info": {
   "codemirror_mode": {
    "name": "ipython",
    "version": 3
   },
   "file_extension": ".py",
   "mimetype": "text/x-python",
   "name": "python",
   "nbconvert_exporter": "python",
   "pygments_lexer": "ipython3",
   "version": "3.9.12"
  }
 },
 "nbformat": 4,
 "nbformat_minor": 5
}
